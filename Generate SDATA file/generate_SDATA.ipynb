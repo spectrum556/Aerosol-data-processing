{
 "cells": [
  {
   "cell_type": "code",
   "execution_count": 1,
   "metadata": {},
   "outputs": [],
   "source": [
    "FILE_HEADER = 'SDATA version 2.0'\n",
    "SEGMENT_HEADER = '2 2 2 : NX NY NT'\n",
    "empty_line = ''\n",
    "\n",
    "# CELL HEADER\n",
    "NPIXELS = 0\n",
    "TIMESTAMP = '2008-06-14T14:49:28Z'\n",
    "HEIGHT_OBS = 70000\n",
    "NSURF = 0\n",
    "IFGAS = 0\n",
    "\n",
    "# The PIXEL structure\n",
    "ix = 1\n",
    "iy = 1\n",
    "icloudy = 1\n",
    "\n",
    "icol = 1360\n",
    "irow = 1360\n",
    "\n",
    "x = -17.0130005\n",
    "y = 14.4720001 \n",
    "MASL = 57.0000000  \n",
    "land_percent = 0.00000000 \n",
    "\n",
    "# number of available wavelengths \n",
    "nwl = 6 \n",
    "# list of wavelengths, in micrometers\n",
    "wl = [0.442999989, 0.490000010, 0.564999998, 0.670000017, 0.865000010, 1.01999998] \n",
    "# number of types of measurements for each wavelength \n",
    "nip = [1, 3, 1, 3, 3, 1]\n",
    "# list of types of measurements, meas_type(nip, wl)\n",
    "meas_type = []\n",
    "# number of valid measurements \n",
    "nbvm = []\n",
    "\n",
    "# solar zenith angle, for each wavelength\n",
    "sza = []\n",
    "# viewing zenith angle, θv(nbvm, nip, wl)\n",
    "vza = []\n",
    "# relative azimuth angle, Δϕ(nbvm, nip, wln)\n",
    "raa = []\n",
    "\n",
    "# measurements, meas(nbvm, nip, wln)\n",
    "meas = []\n",
    "\n",
    "# 1 if a covariance matrix is available, 0 otherwise, ifcov(nip, wln)\n",
    "ifcov = []\n",
    "\n",
    "# 1 if a vertical profile (mprof) is available, 0 otherwise, ifmp(nip, wln)\n",
    "ifmp = []"
   ]
  },
  {
   "cell_type": "code",
   "execution_count": 2,
   "metadata": {},
   "outputs": [],
   "source": [
    "import numpy as np\n",
    "import pandas as pd"
   ]
  },
  {
   "cell_type": "code",
   "execution_count": null,
   "metadata": {},
   "outputs": [],
   "source": [
    "def to_dict(line):\n",
    "    line = line.split()\n",
    "    line_dict = {}\n",
    "    line_dict['ix'], line_dict['iy'], line_dict['icloudy'], line_dict['icol'], line_dict['irow'], \\\n",
    "    line_dict['x'], line_dict['y'], line_dict['MASL'], line_dict['land_percent'], line_dict['nwl'] = line[:10]\n",
    "    \n",
    "    wl_num = int(line_dict['nwl'])\n",
    "    \n",
    "    line_dict['wl'] = line[10:10 + wl_num]\n",
    "    line_dict['nip'] = line[10 + wl_num: 10 + 2 * wl_num]\n",
    "    \n",
    "    chanel_num = sum([int(el) for el in line_dict['nip']])\n",
    "    \n",
    "    \n",
    "    last = 10 + 2 * int(line_dict['nwl']) + chanel_num\n",
    "    line_dict['meas_type'] = line[22: last]\n",
    "    \n",
    "    line_dict['nbvm'] = line[last: last + chanel_num]\n",
    "    last = last + chanel_num\n",
    "    \n",
    "    \n",
    "    meas_num = sum([int(el) for el in line_dict['nbvm']])\n",
    "\n",
    "    line_dict['sza'] = line[last: last + wl_num]\n",
    "    last = last + wl_num\n",
    "\n",
    "    line_dict['vza'] = line[last: last + meas_num]\n",
    "    last = last + meas_num\n",
    "\n",
    "    line_dict['raa'] = line[last: last + meas_num]\n",
    "    last = last + meas_num\n",
    "\n",
    "    line_dict['meas'] = line[last: last + meas_num]\n",
    "    last = last + meas_num\n",
    "\n",
    "    line_dict['ifcov'] = line[last: last + chanel_num]\n",
    "    last = last + chanel_num \n",
    "\n",
    "    line_dict['ifmp'] = line[last: last + chanel_num]\n",
    "    last = last + chanel_num \n",
    "    return line_dict"
   ]
  },
  {
   "cell_type": "code",
   "execution_count": null,
   "metadata": {},
   "outputs": [],
   "source": [
    "def get_data(line_dict):\n",
    "    wl_num = int(line_dict['nwl'])\n",
    "    chanel_num = sum([int(el) for el in line_dict['nip']])\n",
    "    meas_num = sum([int(el) for el in line_dict['nbvm']])\n",
    "    \n",
    "    def mult(x):\n",
    "        if type(x) == list:\n",
    "\n",
    "            if len(x) == wl_num:\n",
    "                l = [[a]*int(b) for a,b in zip(x,line_dict['nip'])]\n",
    "                x = [item for sublist in l for item in sublist]\n",
    "\n",
    "            if len(x) == chanel_num:\n",
    "                l = [[a]*int(b) for a,b in zip(x,line_dict['nbvm'])]\n",
    "                x =  [item for sublist in l for item in sublist]\n",
    "\n",
    "            return x\n",
    "        return [x] * meas_num\n",
    "\n",
    "    t = pd.Series(line_dict).apply(mult)\n",
    "    return pd.DataFrame(t.values.tolist(), index = t.index).T"
   ]
  },
  {
   "cell_type": "code",
   "execution_count": 3,
   "metadata": {},
   "outputs": [],
   "source": [
    "f = open(\"/home/ihor/work_space/aerosol_data_processing/example_polder.sdat\", \"r\")\n",
    "text = f.readlines() "
   ]
  },
  {
   "cell_type": "code",
   "execution_count": 137,
   "metadata": {},
   "outputs": [],
   "source": [
    "data_list = []\n",
    "for line in text:\n",
    "    if len(line) == 103:\n",
    "        cell_header = {}\n",
    "        cell_header['NPIXELS'], cell_header['TIMESTAMP'], cell_header['HEIGHT_OBS'], \\\n",
    "        cell_header['NSURF'], cell_header['IFGAS'] = line.split()[:5]\n",
    "    elif len(line) > 200:\n",
    "        line_dict = to_dict(line)\n",
    "        line_dict.update(cell_header)\n",
    "        data = get_data(line_dict)\n",
    "        data_list.append(data)\n",
    "        "
   ]
  },
  {
   "cell_type": "code",
   "execution_count": 140,
   "metadata": {},
   "outputs": [],
   "source": [
    "pd.concat(data_list).to_csv('example_polder_normalize_data.csv', index=False)"
   ]
  },
  {
   "cell_type": "code",
   "execution_count": null,
   "metadata": {},
   "outputs": [],
   "source": []
  }
 ],
 "metadata": {
  "kernelspec": {
   "display_name": "Python 3",
   "language": "python",
   "name": "python3"
  },
  "language_info": {
   "codemirror_mode": {
    "name": "ipython",
    "version": 3
   },
   "file_extension": ".py",
   "mimetype": "text/x-python",
   "name": "python",
   "nbconvert_exporter": "python",
   "pygments_lexer": "ipython3",
   "version": "3.6.9"
  }
 },
 "nbformat": 4,
 "nbformat_minor": 2
}
