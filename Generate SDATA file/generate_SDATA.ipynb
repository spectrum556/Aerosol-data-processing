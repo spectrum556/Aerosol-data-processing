{
 "cells": [
  {
   "cell_type": "code",
   "execution_count": 6,
   "metadata": {},
   "outputs": [],
   "source": [
    "FILE_HEADER = 'SDATA version 2.0'\n",
    "SEGMENT_HEADER = '2 2 2 : NX NY NT'\n",
    "empty_line = ''\n",
    "\n",
    "# CELL HEADER\n",
    "NPIXELS = 0\n",
    "TIMESTAMP = '2008-06-14T14:49:28Z'\n",
    "HEIGHT_OBS = 70000\n",
    "NSURF = 0\n",
    "IFGAS = 0\n",
    "\n",
    "# The PIXEL structure\n",
    "ix = 1\n",
    "iy = 1\n",
    "icloudy = 1\n",
    "\n",
    "icol = 1360\n",
    "irow = 1360\n",
    "\n",
    "x = -17.0130005\n",
    "y = 14.4720001 \n",
    "MASL = 57.0000000  \n",
    "land_percent = 0.00000000 \n",
    "\n",
    "# number of available wavelengths \n",
    "nwl = 6 \n",
    "# list of wavelengths, in micrometers\n",
    "wl = [0.442999989, 0.490000010, 0.564999998, 0.670000017, 0.865000010, 1.01999998] \n",
    "# number of types of measurements for each wavelength \n",
    "nip = [1, 3, 1, 3, 3, 1]\n",
    "# list of types of measurements, meas_type(nip, wl)\n",
    "meas_type = []\n",
    "# number of valid measurements \n",
    "nbvm = []\n",
    "\n",
    "# solar zenith angle, for each wavelength\n",
    "sza = []\n",
    "# viewing zenith angle, θv(nbvm, nip, wl)\n",
    "vza = []\n",
    "# relative azimuth angle, Δϕ(nbvm, nip, wln)\n",
    "raa = []\n",
    "\n",
    "# measurements, meas(nbvm, nip, wln)\n",
    "meas = []"
   ]
  },
  {
   "cell_type": "code",
   "execution_count": null,
   "metadata": {},
   "outputs": [],
   "source": []
  }
 ],
 "metadata": {
  "kernelspec": {
   "display_name": "Python 3",
   "language": "python",
   "name": "python3"
  },
  "language_info": {
   "codemirror_mode": {
    "name": "ipython",
    "version": 3
   },
   "file_extension": ".py",
   "mimetype": "text/x-python",
   "name": "python",
   "nbconvert_exporter": "python",
   "pygments_lexer": "ipython3",
   "version": "3.6.9"
  }
 },
 "nbformat": 4,
 "nbformat_minor": 2
}
