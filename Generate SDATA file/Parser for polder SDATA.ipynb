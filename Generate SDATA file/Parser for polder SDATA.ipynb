{
 "cells": [
  {
   "cell_type": "code",
   "execution_count": 1,
   "metadata": {},
   "outputs": [],
   "source": [
    "import numpy as np\n",
    "import pandas as pd"
   ]
  },
  {
   "cell_type": "code",
   "execution_count": 2,
   "metadata": {},
   "outputs": [],
   "source": [
    "def to_dict(line):\n",
    "    line = line.split()\n",
    "    line_dict = {}\n",
    "    line_dict['ix'], line_dict['iy'], line_dict['icloudy'], line_dict['icol'], line_dict['irow'], \\\n",
    "    line_dict['x'], line_dict['y'], line_dict['MASL'], line_dict['land_percent'], line_dict['nwl'] = line[:10]\n",
    "    \n",
    "    wl_num = int(line_dict['nwl'])\n",
    "    \n",
    "    line_dict['wl'] = line[10:10 + wl_num]\n",
    "    line_dict['nip'] = line[10 + wl_num: 10 + 2 * wl_num]\n",
    "    \n",
    "    chanel_num = sum([int(el) for el in line_dict['nip']])\n",
    "    \n",
    "    \n",
    "    last = 10 + 2 * int(line_dict['nwl']) + chanel_num\n",
    "    line_dict['meas_type'] = line[22: last]\n",
    "    \n",
    "    line_dict['nbvm'] = line[last: last + chanel_num]\n",
    "    last = last + chanel_num\n",
    "    \n",
    "    \n",
    "    meas_num = sum([int(el) for el in line_dict['nbvm']])\n",
    "\n",
    "    line_dict['sza'] = line[last: last + wl_num]\n",
    "    last = last + wl_num\n",
    "\n",
    "    line_dict['vza'] = line[last: last + meas_num]\n",
    "    last = last + meas_num\n",
    "\n",
    "    line_dict['raa'] = line[last: last + meas_num]\n",
    "    last = last + meas_num\n",
    "\n",
    "    line_dict['meas'] = line[last: last + meas_num]\n",
    "    last = last + meas_num\n",
    "\n",
    "    line_dict['ifcov'] = line[last: last + chanel_num]\n",
    "    last = last + chanel_num \n",
    "\n",
    "    line_dict['ifmp'] = line[last: last + chanel_num]\n",
    "    last = last + chanel_num \n",
    "    return line_dict"
   ]
  },
  {
   "cell_type": "code",
   "execution_count": 3,
   "metadata": {},
   "outputs": [],
   "source": [
    "def get_data(line_dict):\n",
    "    wl_num = int(line_dict['nwl'])\n",
    "    chanel_num = sum([int(el) for el in line_dict['nip']])\n",
    "    meas_num = sum([int(el) for el in line_dict['nbvm']])\n",
    "    \n",
    "    def mult(x):\n",
    "        if type(x) == list:\n",
    "\n",
    "            if len(x) == wl_num:\n",
    "                l = [[a]*int(b) for a,b in zip(x,line_dict['nip'])]\n",
    "                x = [item for sublist in l for item in sublist]\n",
    "\n",
    "            if len(x) == chanel_num:\n",
    "                l = [[a]*int(b) for a,b in zip(x,line_dict['nbvm'])]\n",
    "                x =  [item for sublist in l for item in sublist]\n",
    "\n",
    "            return x\n",
    "        return [x] * meas_num\n",
    "\n",
    "    t = pd.Series(line_dict).apply(mult)\n",
    "    return pd.DataFrame(t.values.tolist(), index = t.index).T"
   ]
  },
  {
   "cell_type": "code",
   "execution_count": 4,
   "metadata": {},
   "outputs": [],
   "source": [
    "f = open(\"/home/ihor/work_space/aerosol_data_processing/example_polder.sdat\", \"r\")\n",
    "text = f.readlines() "
   ]
  },
  {
   "cell_type": "code",
   "execution_count": 5,
   "metadata": {},
   "outputs": [],
   "source": [
    "data_list = []\n",
    "for line in text:\n",
    "    if len(line) == 103:\n",
    "        cell_header = {}\n",
    "        cell_header['NPIXELS'], cell_header['TIMESTAMP'], cell_header['HEIGHT_OBS'], \\\n",
    "        cell_header['NSURF'], cell_header['IFGAS'] = line.split()[:5]\n",
    "    elif len(line) > 200:\n",
    "        line_dict = to_dict(line)\n",
    "        line_dict.update(cell_header)\n",
    "        data = get_data(line_dict)\n",
    "        data_list.append(data)\n",
    "        "
   ]
  },
  {
   "cell_type": "code",
   "execution_count": 6,
   "metadata": {},
   "outputs": [],
   "source": [
    "data = pd.concat(data_list)"
   ]
  },
  {
   "cell_type": "code",
   "execution_count": 49,
   "metadata": {},
   "outputs": [],
   "source": [
    "line_dict = to_dict(line)"
   ]
  }
 ],
 "metadata": {
  "kernelspec": {
   "display_name": "Python 3",
   "language": "python",
   "name": "python3"
  },
  "language_info": {
   "codemirror_mode": {
    "name": "ipython",
    "version": 3
   },
   "file_extension": ".py",
   "mimetype": "text/x-python",
   "name": "python",
   "nbconvert_exporter": "python",
   "pygments_lexer": "ipython3",
   "version": "3.6.9"
  }
 },
 "nbformat": 4,
 "nbformat_minor": 2
}
