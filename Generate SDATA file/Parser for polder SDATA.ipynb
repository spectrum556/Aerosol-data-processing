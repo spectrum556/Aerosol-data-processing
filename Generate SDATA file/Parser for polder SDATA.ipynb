{
 "cells": [
  {
   "cell_type": "code",
   "execution_count": 1,
   "metadata": {},
   "outputs": [],
   "source": [
    "import numpy as np\n",
    "import pandas as pd"
   ]
  },
  {
   "cell_type": "code",
   "execution_count": 2,
   "metadata": {},
   "outputs": [],
   "source": [
    "def to_dict(line):\n",
    "    line = line.split()\n",
    "    line_dict = {}\n",
    "    line_dict['ix'], line_dict['iy'], line_dict['icloudy'], line_dict['icol'], line_dict['irow'], \\\n",
    "    line_dict['x'], line_dict['y'], line_dict['MASL'], line_dict['land_percent'], line_dict['nwl'] = line[:10]\n",
    "    \n",
    "    wl_num = int(line_dict['nwl'])\n",
    "    \n",
    "    line_dict['wl'] = line[10:10 + wl_num]\n",
    "    line_dict['nip'] = line[10 + wl_num: 10 + 2 * wl_num]\n",
    "    \n",
    "    chanel_num = sum([int(el) for el in line_dict['nip']])\n",
    "    \n",
    "    \n",
    "    last = 10 + 2 * int(line_dict['nwl']) + chanel_num\n",
    "    line_dict['meas_type'] = line[22: last]\n",
    "    \n",
    "    line_dict['nbvm'] = line[last: last + chanel_num]\n",
    "    last = last + chanel_num\n",
    "    \n",
    "    \n",
    "    meas_num = sum([int(el) for el in line_dict['nbvm']])\n",
    "\n",
    "    line_dict['sza'] = line[last: last + wl_num]\n",
    "    last = last + wl_num\n",
    "\n",
    "    line_dict['vza'] = line[last: last + meas_num]\n",
    "    last = last + meas_num\n",
    "\n",
    "    line_dict['raa'] = line[last: last + meas_num]\n",
    "    last = last + meas_num\n",
    "\n",
    "    line_dict['meas'] = line[last: last + meas_num]\n",
    "    last = last + meas_num\n",
    "\n",
    "    line_dict['ifcov'] = line[last: last + chanel_num]\n",
    "    last = last + chanel_num \n",
    "\n",
    "    line_dict['ifmp'] = line[last: last + chanel_num]\n",
    "    last = last + chanel_num \n",
    "    return line_dict"
   ]
  },
  {
   "cell_type": "code",
   "execution_count": 3,
   "metadata": {},
   "outputs": [],
   "source": [
    "def get_data(line_dict):\n",
    "    wl_num = int(line_dict['nwl'])\n",
    "    chanel_num = sum([int(el) for el in line_dict['nip']])\n",
    "    meas_num = sum([int(el) for el in line_dict['nbvm']])\n",
    "    \n",
    "    def mult(x):\n",
    "        if type(x) == list:\n",
    "\n",
    "            if len(x) == wl_num:\n",
    "                l = [[a]*int(b) for a,b in zip(x,line_dict['nip'])]\n",
    "                x = [item for sublist in l for item in sublist]\n",
    "\n",
    "            if len(x) == chanel_num:\n",
    "                l = [[a]*int(b) for a,b in zip(x,line_dict['nbvm'])]\n",
    "                x =  [item for sublist in l for item in sublist]\n",
    "\n",
    "            return x\n",
    "        return [x] * meas_num\n",
    "\n",
    "    t = pd.Series(line_dict).apply(mult)\n",
    "    return pd.DataFrame(t.values.tolist(), index = t.index).T"
   ]
  },
  {
   "cell_type": "code",
   "execution_count": 14,
   "metadata": {},
   "outputs": [],
   "source": [
    "f = open(\"/home/ihor/work_space/aerosol_data_processing/example_polder_true.sdat\", \"r\")\n",
    "f_bani = open(\"/home/ihor/work_space/aerosol_data_processing/GRASP data simulation/Scene descriptions for Banizounbou and Mongu sites from 5 bin POLDER retrievals/Banizoumbou_080101_080331_2x2.dat\", \"r\")\n",
    "\n",
    "text = f.readlines() \n",
    "text_bani = f_bani.readlines() "
   ]
  },
  {
   "cell_type": "code",
   "execution_count": 23,
   "metadata": {
    "scrolled": true
   },
   "outputs": [
    {
     "data": {
      "text/plain": [
       "3       4   2008-06-14T14:49:28Z  705000.00   0   0 ...\n",
       "10      4   2008-06-16T14:37:07Z  705000.00   0   0 ...\n",
       "17      4   2008-06-18T14:24:47Z  705000.00   0   0 ...\n",
       "24      4   2008-06-20T14:12:28Z  705000.00   0   0 ...\n",
       "31      4   2008-06-23T14:43:18Z  705000.00   0   0 ...\n",
       "dtype: object"
      ]
     },
     "execution_count": 23,
     "metadata": {},
     "output_type": "execute_result"
    }
   ],
   "source": [
    "temp = pd.Series(text)\n",
    "temp[temp.apply(len) == 103].head()"
   ]
  },
  {
   "cell_type": "code",
   "execution_count": 24,
   "metadata": {},
   "outputs": [
    {
     "data": {
      "text/plain": [
       "3     4 2008-01-04T13:15:01Z 705000 0 0 : NPIXELS TI...\n",
       "9     4 2008-01-06T13:02:42Z 705000 0 0 : NPIXELS TI...\n",
       "15    4 2008-01-08T12:50:22Z 705000 0 0 : NPIXELS TI...\n",
       "21    4 2008-01-11T13:21:20Z 705000 0 0 : NPIXELS TI...\n",
       "27    4 2008-01-13T13:09:03Z 705000 0 0 : NPIXELS TI...\n",
       "dtype: object"
      ]
     },
     "execution_count": 24,
     "metadata": {},
     "output_type": "execute_result"
    }
   ],
   "source": [
    "temp = pd.Series(text_bani)\n",
    "temp[temp.apply(len) == 71].head()"
   ]
  },
  {
   "cell_type": "code",
   "execution_count": 25,
   "metadata": {},
   "outputs": [],
   "source": [
    "data_list = []\n",
    "for line in text_bani:\n",
    "    if len(line) == 71:\n",
    "        cell_header = {}\n",
    "        cell_header['NPIXELS'], cell_header['TIMESTAMP'], cell_header['HEIGHT_OBS'], \\\n",
    "        cell_header['NSURF'], cell_header['IFGAS'] = line.split()[:5]\n",
    "    elif len(line) > 200:\n",
    "        line_dict = to_dict(line)\n",
    "        line_dict.update(cell_header)\n",
    "        data = get_data(line_dict)\n",
    "        data_list.append(data)\n",
    "        "
   ]
  },
  {
   "cell_type": "code",
   "execution_count": 26,
   "metadata": {},
   "outputs": [],
   "source": [
    "data = pd.concat(data_list)"
   ]
  },
  {
   "cell_type": "code",
   "execution_count": 28,
   "metadata": {},
   "outputs": [],
   "source": [
    "data.to_csv('polder_Banizounbou_normalize_data.csv', index=False)"
   ]
  },
  {
   "cell_type": "code",
   "execution_count": 29,
   "metadata": {},
   "outputs": [],
   "source": [
    "line_dict = to_dict(line)"
   ]
  },
  {
   "cell_type": "code",
   "execution_count": null,
   "metadata": {},
   "outputs": [],
   "source": []
  }
 ],
 "metadata": {
  "kernelspec": {
   "display_name": "Python 3",
   "language": "python",
   "name": "python3"
  },
  "language_info": {
   "codemirror_mode": {
    "name": "ipython",
    "version": 3
   },
   "file_extension": ".py",
   "mimetype": "text/x-python",
   "name": "python",
   "nbconvert_exporter": "python",
   "pygments_lexer": "ipython3",
   "version": "3.6.7"
  }
 },
 "nbformat": 4,
 "nbformat_minor": 2
}
