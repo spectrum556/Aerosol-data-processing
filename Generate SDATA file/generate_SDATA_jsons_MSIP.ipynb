{
 "cells": [
  {
   "cell_type": "code",
   "execution_count": 1,
   "metadata": {},
   "outputs": [],
   "source": [
    "import numpy as np\n",
    "import pandas as pd\n",
    "import json"
   ]
  },
  {
   "cell_type": "code",
   "execution_count": 2,
   "metadata": {},
   "outputs": [],
   "source": [
    "df = pd.read_csv('example_polder_normalize_data.csv')"
   ]
  },
  {
   "cell_type": "code",
   "execution_count": 3,
   "metadata": {
    "scrolled": true
   },
   "outputs": [
    {
     "data": {
      "text/plain": [
       "Index(['ix', 'iy', 'icloudy', 'icol', 'irow', 'x', 'y', 'MASL', 'land_percent',\n",
       "       'nwl', 'wl', 'nip', 'meas_type', 'nbvm', 'sza', 'vza', 'raa', 'meas',\n",
       "       'ifcov', 'ifmp', 'NPIXELS', 'TIMESTAMP', 'HEIGHT_OBS', 'NSURF',\n",
       "       'IFGAS'],\n",
       "      dtype='object')"
      ]
     },
     "execution_count": 3,
     "metadata": {},
     "output_type": "execute_result"
    }
   ],
   "source": [
    "df.columns"
   ]
  },
  {
   "cell_type": "code",
   "execution_count": 4,
   "metadata": {},
   "outputs": [],
   "source": [
    "wl_swap = {0.443: 0.37,\n",
    "           0.49: 0.41,\n",
    "           0.565: 0.555,\n",
    "           0.67: 0.865,\n",
    "           0.865: 1.378,\n",
    "           1.02: 1.61}\n",
    "\n",
    "df['wl'] = df['wl'].round(4)\n",
    "df['wl'] = df['wl'].apply(lambda x: wl_swap[x])"
   ]
  },
  {
   "cell_type": "code",
   "execution_count": 5,
   "metadata": {},
   "outputs": [],
   "source": [
    "timestamp_table = df.groupby('TIMESTAMP')['HEIGHT_OBS', 'NPIXELS', 'NSURF', 'IFGAS'].max()\n",
    "timestamp_dict = timestamp_table.T.to_dict()"
   ]
  },
  {
   "cell_type": "code",
   "execution_count": 6,
   "metadata": {},
   "outputs": [],
   "source": [
    "pixel_table = df.groupby(['ix', 'iy'])['icloudy', 'icol', 'irow', 'x', 'y', 'MASL', 'land_percent'].min()\n",
    "pixel_dict = pixel_table.T.to_dict()"
   ]
  },
  {
   "cell_type": "code",
   "execution_count": 7,
   "metadata": {
    "scrolled": false
   },
   "outputs": [],
   "source": [
    "par_list = ['TIMESTAMP','ix', 'iy', 'wl','nip', 'sza', 'meas_type', 'ifcov', 'ifmp']\n",
    "\n",
    "\n",
    "vza_values = df.groupby(par_list).vza.apply(list).rename('vza')\n",
    "raa_values = df.groupby(par_list).raa.apply(list).rename('raa')\n",
    "meas_values = df.groupby(par_list).meas.apply(list).rename('meas')\n",
    "\n",
    "table = pd.concat([vza_values, raa_values, meas_values], axis=1).reset_index()\n",
    "table['nbvm'] = table.meas.apply(len)"
   ]
  },
  {
   "cell_type": "code",
   "execution_count": 8,
   "metadata": {
    "scrolled": true
   },
   "outputs": [
    {
     "data": {
      "text/html": [
       "<div>\n",
       "<style scoped>\n",
       "    .dataframe tbody tr th:only-of-type {\n",
       "        vertical-align: middle;\n",
       "    }\n",
       "\n",
       "    .dataframe tbody tr th {\n",
       "        vertical-align: top;\n",
       "    }\n",
       "\n",
       "    .dataframe thead th {\n",
       "        text-align: right;\n",
       "    }\n",
       "</style>\n",
       "<table border=\"1\" class=\"dataframe\">\n",
       "  <thead>\n",
       "    <tr style=\"text-align: right;\">\n",
       "      <th></th>\n",
       "      <th>TIMESTAMP</th>\n",
       "      <th>ix</th>\n",
       "      <th>iy</th>\n",
       "      <th>wl</th>\n",
       "      <th>nip</th>\n",
       "      <th>sza</th>\n",
       "      <th>meas_type</th>\n",
       "      <th>ifcov</th>\n",
       "      <th>ifmp</th>\n",
       "      <th>vza</th>\n",
       "      <th>raa</th>\n",
       "      <th>meas</th>\n",
       "      <th>nbvm</th>\n",
       "    </tr>\n",
       "  </thead>\n",
       "  <tbody>\n",
       "    <tr>\n",
       "      <th>0</th>\n",
       "      <td>2008-06-14T14:49:28Z</td>\n",
       "      <td>1</td>\n",
       "      <td>1</td>\n",
       "      <td>0.37</td>\n",
       "      <td>1</td>\n",
       "      <td>24.109501</td>\n",
       "      <td>41</td>\n",
       "      <td>0</td>\n",
       "      <td>0</td>\n",
       "      <td>[58.837101000000004, 54.179599800000005, 48.83...</td>\n",
       "      <td>[107.692001, 104.415001, 99.9546967, 93.609298...</td>\n",
       "      <td>[0.18758133100000002, 0.17888978100000003, 0.1...</td>\n",
       "      <td>14</td>\n",
       "    </tr>\n",
       "    <tr>\n",
       "      <th>1</th>\n",
       "      <td>2008-06-14T14:49:28Z</td>\n",
       "      <td>1</td>\n",
       "      <td>1</td>\n",
       "      <td>0.41</td>\n",
       "      <td>3</td>\n",
       "      <td>24.109501</td>\n",
       "      <td>41</td>\n",
       "      <td>0</td>\n",
       "      <td>0</td>\n",
       "      <td>[58.973701500000004, 54.3372002, 49.0166016, 4...</td>\n",
       "      <td>[107.779999, 104.532997, 100.114998, 93.844703...</td>\n",
       "      <td>[0.167410657, 0.15861778, 0.149844468, 0.14162...</td>\n",
       "      <td>14</td>\n",
       "    </tr>\n",
       "    <tr>\n",
       "      <th>2</th>\n",
       "      <td>2008-06-14T14:49:28Z</td>\n",
       "      <td>1</td>\n",
       "      <td>1</td>\n",
       "      <td>0.41</td>\n",
       "      <td>3</td>\n",
       "      <td>24.109501</td>\n",
       "      <td>42</td>\n",
       "      <td>0</td>\n",
       "      <td>0</td>\n",
       "      <td>[58.973701500000004, 54.3372002, 49.0166016, 4...</td>\n",
       "      <td>[107.779999, 104.532997, 100.114998, 93.844703...</td>\n",
       "      <td>[-0.041035451, -0.0329722129, -0.0242278314999...</td>\n",
       "      <td>14</td>\n",
       "    </tr>\n",
       "    <tr>\n",
       "      <th>3</th>\n",
       "      <td>2008-06-14T14:49:28Z</td>\n",
       "      <td>1</td>\n",
       "      <td>1</td>\n",
       "      <td>0.41</td>\n",
       "      <td>3</td>\n",
       "      <td>24.109501</td>\n",
       "      <td>43</td>\n",
       "      <td>0</td>\n",
       "      <td>0</td>\n",
       "      <td>[58.973701500000004, 54.3372002, 49.0166016, 4...</td>\n",
       "      <td>[107.779999, 104.532997, 100.114998, 93.844703...</td>\n",
       "      <td>[-0.046323519199999996, -0.0409283862, -0.0348...</td>\n",
       "      <td>14</td>\n",
       "    </tr>\n",
       "  </tbody>\n",
       "</table>\n",
       "</div>"
      ],
      "text/plain": [
       "              TIMESTAMP  ix  iy    wl  nip        sza  meas_type  ifcov  ifmp  \\\n",
       "0  2008-06-14T14:49:28Z   1   1  0.37    1  24.109501         41      0     0   \n",
       "1  2008-06-14T14:49:28Z   1   1  0.41    3  24.109501         41      0     0   \n",
       "2  2008-06-14T14:49:28Z   1   1  0.41    3  24.109501         42      0     0   \n",
       "3  2008-06-14T14:49:28Z   1   1  0.41    3  24.109501         43      0     0   \n",
       "\n",
       "                                                 vza  \\\n",
       "0  [58.837101000000004, 54.179599800000005, 48.83...   \n",
       "1  [58.973701500000004, 54.3372002, 49.0166016, 4...   \n",
       "2  [58.973701500000004, 54.3372002, 49.0166016, 4...   \n",
       "3  [58.973701500000004, 54.3372002, 49.0166016, 4...   \n",
       "\n",
       "                                                 raa  \\\n",
       "0  [107.692001, 104.415001, 99.9546967, 93.609298...   \n",
       "1  [107.779999, 104.532997, 100.114998, 93.844703...   \n",
       "2  [107.779999, 104.532997, 100.114998, 93.844703...   \n",
       "3  [107.779999, 104.532997, 100.114998, 93.844703...   \n",
       "\n",
       "                                                meas  nbvm  \n",
       "0  [0.18758133100000002, 0.17888978100000003, 0.1...    14  \n",
       "1  [0.167410657, 0.15861778, 0.149844468, 0.14162...    14  \n",
       "2  [-0.041035451, -0.0329722129, -0.0242278314999...    14  \n",
       "3  [-0.046323519199999996, -0.0409283862, -0.0348...    14  "
      ]
     },
     "execution_count": 8,
     "metadata": {},
     "output_type": "execute_result"
    }
   ],
   "source": [
    "table[(table['TIMESTAMP'] =='2008-06-14T14:49:28Z') & (table['ix'] == 1) & (table['iy'] == 1)].head(4)"
   ]
  },
  {
   "cell_type": "code",
   "execution_count": 9,
   "metadata": {},
   "outputs": [
    {
     "data": {
      "text/plain": [
       "(1440, 13)"
      ]
     },
     "execution_count": 9,
     "metadata": {},
     "output_type": "execute_result"
    }
   ],
   "source": [
    "table.shape"
   ]
  },
  {
   "cell_type": "code",
   "execution_count": 10,
   "metadata": {},
   "outputs": [],
   "source": [
    "# addapt to scanpol, added spectral channels\n",
    "\n",
    "one_ch = table[table.nip == 1]\n",
    "three_ch = table[table.nip == 3]\n",
    "\n",
    "ls = []\n",
    "for type_ in [41, 42, 43]:\n",
    "    t = one_ch.copy()\n",
    "    t['meas_type'] = type_\n",
    "    ls.append(t)\n",
    "    \n",
    "one_ch_changed = pd.concat(ls)\n",
    "one_ch_changed['nip'] = 3\n",
    "\n",
    "table = pd.concat([one_ch_changed, three_ch]).sort_values(['TIMESTAMP', 'ix', 'iy', 'wl']).reset_index(drop=True)"
   ]
  },
  {
   "cell_type": "code",
   "execution_count": 11,
   "metadata": {},
   "outputs": [],
   "source": [
    "msip_pol = table[table.wl.isin([0.41, 0.555, 0.865])].reset_index(drop=True)\n",
    "\n",
    "# remove intensity because of having more precise one in intensity channels\n",
    "msip_pol = msip_pol[msip_pol.meas_type != 41]\n",
    "\n",
    "msip_pol['chanel_name'] = 'msip_pol_' + msip_pol['wl'].astype(str) + '_' + msip_pol['meas_type'].astype(str)"
   ]
  },
  {
   "cell_type": "code",
   "execution_count": 12,
   "metadata": {},
   "outputs": [],
   "source": [
    "msip_intens = table[table.meas_type == 41].reset_index(drop=True)\n",
    "\n",
    "two_last_wl = msip_intens[msip_intens.wl.isin([0.865, 1.61])].reset_index(drop=True)\n",
    "two_last_wl.wl = two_last_wl.wl.apply(lambda x: 0.91 if x == 1.61 else x)\n",
    "\n",
    "swam_wl_to_MSIP = {0.41: 0.41,\n",
    "                   0.37: 0.443,\n",
    "                   0.865: 0.47,\n",
    "                   1.378: 0.49,\n",
    "                   0.555: 0.555,\n",
    "                   1.61: 0.67}\n",
    "\n",
    "msip_intens.wl = msip_intens.wl.apply(lambda x: swam_wl_to_MSIP[x])\n",
    "\n",
    "msip_intens = pd.concat([msip_intens, two_last_wl]).reset_index(drop=True)\n",
    "\n",
    "msip_intens['chanel_name'] = 'msip_intens_' + msip_intens['wl'].astype(str) + '_' + msip_intens['meas_type'].astype(str)\n",
    "\n",
    "msip = pd.concat([msip_pol, msip_intens]).sort_values(['TIMESTAMP', 'ix', 'iy', 'wl'])"
   ]
  },
  {
   "cell_type": "code",
   "execution_count": 13,
   "metadata": {},
   "outputs": [],
   "source": [
    "table = msip.copy()"
   ]
  },
  {
   "cell_type": "code",
   "execution_count": 14,
   "metadata": {},
   "outputs": [],
   "source": [
    "dict_of_dicts = {}\n",
    "\n",
    "for timestamp in timestamp_dict:\n",
    "    for ix in range(2):\n",
    "        for iy in range(2):\n",
    "\n",
    "            r = table[(table['TIMESTAMP'] == timestamp) & (table['ix'] == ix + 1) & (table['iy'] == iy + 1)]\n",
    "            r = r.sort_values(['TIMESTAMP','ix', 'iy', 'wl', 'meas_type']).reset_index(drop=True)\n",
    "            final_dict = {}\n",
    "            \n",
    "            # sum of lists\n",
    "            final_dict['vza'] = r['vza'].sum()\n",
    "            final_dict['raa'] = r['raa'].sum()\n",
    "            final_dict['meas'] = r['meas'].sum()\n",
    "\n",
    "\n",
    "            r_reset = r.drop(['vza','raa','meas'], 1)\n",
    "\n",
    "            final_dict['nbvm'] = r_reset['nbvm'].tolist()\n",
    "            final_dict['meas_type'] = r_reset['meas_type'].tolist()\n",
    "            final_dict['ifcov'] = r_reset['ifcov'].tolist()\n",
    "            final_dict['ifmp'] = r_reset['ifmp'].tolist()\n",
    "\n",
    "            wl_gr = r_reset.groupby(['TIMESTAMP','ix', 'iy', 'wl'])\n",
    "\n",
    "\n",
    "            final_dict['nip'] = wl_gr.chanel_name.nunique().tolist()\n",
    "\n",
    "            wl_gr_df = wl_gr.max().reset_index()\n",
    "\n",
    "            final_dict['sza'] = wl_gr_df['sza'].tolist()\n",
    "            final_dict['wl'] = wl_gr_df['wl'].tolist()\n",
    "            final_dict['nwl'] = wl_gr_df['wl'].nunique()\n",
    "            \n",
    "\n",
    "            final_dict.update(pixel_dict[(ix + 1, iy + 1)])\n",
    "            \n",
    "            dict_of_dicts[(timestamp, ix + 1, iy + 1)] = final_dict"
   ]
  },
  {
   "cell_type": "code",
   "execution_count": 15,
   "metadata": {},
   "outputs": [
    {
     "data": {
      "text/html": [
       "<div>\n",
       "<style scoped>\n",
       "    .dataframe tbody tr th:only-of-type {\n",
       "        vertical-align: middle;\n",
       "    }\n",
       "\n",
       "    .dataframe tbody tr th {\n",
       "        vertical-align: top;\n",
       "    }\n",
       "\n",
       "    .dataframe thead th {\n",
       "        text-align: right;\n",
       "    }\n",
       "</style>\n",
       "<table border=\"1\" class=\"dataframe\">\n",
       "  <thead>\n",
       "    <tr style=\"text-align: right;\">\n",
       "      <th></th>\n",
       "      <th>TIMESTAMP</th>\n",
       "      <th>ix</th>\n",
       "      <th>iy</th>\n",
       "      <th>wl</th>\n",
       "      <th>nip</th>\n",
       "      <th>sza</th>\n",
       "      <th>meas_type</th>\n",
       "      <th>ifcov</th>\n",
       "      <th>ifmp</th>\n",
       "      <th>nbvm</th>\n",
       "      <th>chanel_name</th>\n",
       "    </tr>\n",
       "  </thead>\n",
       "  <tbody>\n",
       "    <tr>\n",
       "      <th>0</th>\n",
       "      <td>2008-08-19T14:36:24Z</td>\n",
       "      <td>2</td>\n",
       "      <td>2</td>\n",
       "      <td>0.410</td>\n",
       "      <td>3</td>\n",
       "      <td>19.719</td>\n",
       "      <td>41</td>\n",
       "      <td>0</td>\n",
       "      <td>0</td>\n",
       "      <td>14</td>\n",
       "      <td>msip_intens_0.41_41</td>\n",
       "    </tr>\n",
       "    <tr>\n",
       "      <th>1</th>\n",
       "      <td>2008-08-19T14:36:24Z</td>\n",
       "      <td>2</td>\n",
       "      <td>2</td>\n",
       "      <td>0.410</td>\n",
       "      <td>3</td>\n",
       "      <td>19.719</td>\n",
       "      <td>42</td>\n",
       "      <td>0</td>\n",
       "      <td>0</td>\n",
       "      <td>14</td>\n",
       "      <td>msip_pol_0.41_42</td>\n",
       "    </tr>\n",
       "    <tr>\n",
       "      <th>2</th>\n",
       "      <td>2008-08-19T14:36:24Z</td>\n",
       "      <td>2</td>\n",
       "      <td>2</td>\n",
       "      <td>0.410</td>\n",
       "      <td>3</td>\n",
       "      <td>19.719</td>\n",
       "      <td>43</td>\n",
       "      <td>0</td>\n",
       "      <td>0</td>\n",
       "      <td>14</td>\n",
       "      <td>msip_pol_0.41_43</td>\n",
       "    </tr>\n",
       "    <tr>\n",
       "      <th>3</th>\n",
       "      <td>2008-08-19T14:36:24Z</td>\n",
       "      <td>2</td>\n",
       "      <td>2</td>\n",
       "      <td>0.443</td>\n",
       "      <td>3</td>\n",
       "      <td>19.719</td>\n",
       "      <td>41</td>\n",
       "      <td>0</td>\n",
       "      <td>0</td>\n",
       "      <td>14</td>\n",
       "      <td>msip_intens_0.443_41</td>\n",
       "    </tr>\n",
       "    <tr>\n",
       "      <th>4</th>\n",
       "      <td>2008-08-19T14:36:24Z</td>\n",
       "      <td>2</td>\n",
       "      <td>2</td>\n",
       "      <td>0.470</td>\n",
       "      <td>3</td>\n",
       "      <td>19.719</td>\n",
       "      <td>41</td>\n",
       "      <td>0</td>\n",
       "      <td>0</td>\n",
       "      <td>14</td>\n",
       "      <td>msip_intens_0.47_41</td>\n",
       "    </tr>\n",
       "  </tbody>\n",
       "</table>\n",
       "</div>"
      ],
      "text/plain": [
       "              TIMESTAMP  ix  iy     wl  nip     sza  meas_type  ifcov  ifmp  \\\n",
       "0  2008-08-19T14:36:24Z   2   2  0.410    3  19.719         41      0     0   \n",
       "1  2008-08-19T14:36:24Z   2   2  0.410    3  19.719         42      0     0   \n",
       "2  2008-08-19T14:36:24Z   2   2  0.410    3  19.719         43      0     0   \n",
       "3  2008-08-19T14:36:24Z   2   2  0.443    3  19.719         41      0     0   \n",
       "4  2008-08-19T14:36:24Z   2   2  0.470    3  19.719         41      0     0   \n",
       "\n",
       "   nbvm           chanel_name  \n",
       "0    14   msip_intens_0.41_41  \n",
       "1    14      msip_pol_0.41_42  \n",
       "2    14      msip_pol_0.41_43  \n",
       "3    14  msip_intens_0.443_41  \n",
       "4    14   msip_intens_0.47_41  "
      ]
     },
     "execution_count": 15,
     "metadata": {},
     "output_type": "execute_result"
    }
   ],
   "source": [
    "r_reset.head()"
   ]
  },
  {
   "cell_type": "code",
   "execution_count": 16,
   "metadata": {},
   "outputs": [],
   "source": [
    "# to nestes dict\n",
    "from collections import defaultdict\n",
    "\n",
    "success_dict = defaultdict(list)\n",
    "for key in dict_of_dicts:\n",
    "    success_dict[key[0]].append({'{}_{}'.format(key[1], key[2]): dict_of_dicts[key]})"
   ]
  },
  {
   "cell_type": "code",
   "execution_count": 17,
   "metadata": {},
   "outputs": [],
   "source": [
    "with open('intermediate_data/data_MSIP.json', 'w') as file:\n",
    "    json.dump(success_dict, file)\n",
    "    \n",
    "    \n",
    "with open('intermediate_data/timestamp_info_MSIP.json', 'w') as file:\n",
    "    json.dump(timestamp_dict, file)"
   ]
  },
  {
   "cell_type": "code",
   "execution_count": null,
   "metadata": {},
   "outputs": [],
   "source": []
  },
  {
   "cell_type": "code",
   "execution_count": null,
   "metadata": {},
   "outputs": [],
   "source": []
  }
 ],
 "metadata": {
  "kernelspec": {
   "display_name": "Python 3",
   "language": "python",
   "name": "python3"
  },
  "language_info": {
   "codemirror_mode": {
    "name": "ipython",
    "version": 3
   },
   "file_extension": ".py",
   "mimetype": "text/x-python",
   "name": "python",
   "nbconvert_exporter": "python",
   "pygments_lexer": "ipython3",
   "version": "3.6.7"
  }
 },
 "nbformat": 4,
 "nbformat_minor": 2
}
