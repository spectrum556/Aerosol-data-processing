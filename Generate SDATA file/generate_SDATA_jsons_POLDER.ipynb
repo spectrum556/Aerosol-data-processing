{
 "cells": [
  {
   "cell_type": "code",
   "execution_count": 1,
   "metadata": {},
   "outputs": [],
   "source": [
    "FILE_HEADER = 'SDATA version 2.0'\n",
    "SEGMENT_HEADER = '2 2 2 : NX NY NT'\n",
    "empty_line = ''\n",
    "\n",
    "# CELL HEADER\n",
    "NPIXELS = 0\n",
    "TIMESTAMP = '2008-06-14T14:49:28Z'\n",
    "HEIGHT_OBS = 70000\n",
    "NSURF = 0\n",
    "IFGAS = 0\n",
    "\n",
    "# The PIXEL structure\n",
    "ix = 1\n",
    "iy = 1\n",
    "icloudy = 1\n",
    "\n",
    "icol = 1360\n",
    "irow = 1360\n",
    "\n",
    "x = -17.0130005\n",
    "y = 14.4720001 \n",
    "MASL = 57.0000000  \n",
    "land_percent = 0.00000000 \n",
    "\n",
    "# number of available wavelengths \n",
    "nwl = 6 \n",
    "# list of wavelengths, in micrometers\n",
    "wl = [0.442999989, 0.490000010, 0.564999998, 0.670000017, 0.865000010, 1.01999998] \n",
    "# number of types of measurements for each wavelength \n",
    "nip = [1, 3, 1, 3, 3, 1]\n",
    "# list of types of measurements, meas_type(nip, wl)\n",
    "meas_type = []\n",
    "# number of valid measurements \n",
    "nbvm = []\n",
    "\n",
    "# solar zenith angle, for each wavelength\n",
    "sza = []\n",
    "# viewing zenith angle, θv(nbvm, nip, wl)\n",
    "vza = []\n",
    "# relative azimuth angle, Δϕ(nbvm, nip, wln)\n",
    "raa = []\n",
    "\n",
    "# measurements, meas(nbvm, nip, wln)\n",
    "meas = []\n",
    "\n",
    "# 1 if a covariance matrix is available, 0 otherwise, ifcov(nip, wln)\n",
    "ifcov = []\n",
    "\n",
    "# 1 if a vertical profile (mprof) is available, 0 otherwise, ifmp(nip, wln)\n",
    "ifmp = []"
   ]
  },
  {
   "cell_type": "code",
   "execution_count": 2,
   "metadata": {},
   "outputs": [],
   "source": [
    "import numpy as np\n",
    "import pandas as pd\n",
    "import json"
   ]
  },
  {
   "cell_type": "code",
   "execution_count": 3,
   "metadata": {},
   "outputs": [],
   "source": [
    "df = pd.read_csv('example_polder_normalize_data.csv')"
   ]
  },
  {
   "cell_type": "code",
   "execution_count": 4,
   "metadata": {},
   "outputs": [],
   "source": [
    "timestamp_table = df.groupby('TIMESTAMP')['HEIGHT_OBS', 'NPIXELS', 'NSURF', 'IFGAS'].max()\n",
    "timestamp_dict = timestamp_table.T.to_dict()"
   ]
  },
  {
   "cell_type": "code",
   "execution_count": 5,
   "metadata": {},
   "outputs": [],
   "source": [
    "pixel_table = df.groupby(['ix', 'iy'])['icloudy', 'icol', 'irow', 'x', 'y', 'MASL', 'land_percent','nwl'].min()\n",
    "pixel_dict = pixel_table.T.to_dict()"
   ]
  },
  {
   "cell_type": "code",
   "execution_count": 6,
   "metadata": {
    "scrolled": false
   },
   "outputs": [],
   "source": [
    "par_list = ['TIMESTAMP','ix', 'iy', 'wl','nip', 'sza', 'meas_type', 'ifcov', 'ifmp']\n",
    "\n",
    "\n",
    "vza_values = df.groupby(par_list).vza.apply(list).rename('vza')\n",
    "raa_values = df.groupby(par_list).raa.apply(list).rename('raa')\n",
    "meas_values = df.groupby(par_list).meas.apply(list).rename('meas')\n",
    "\n",
    "table = pd.concat([vza_values, raa_values, meas_values], axis=1).reset_index()\n",
    "table['nbvm'] = table.meas.apply(len)"
   ]
  },
  {
   "cell_type": "code",
   "execution_count": 9,
   "metadata": {},
   "outputs": [
    {
     "data": {
      "text/plain": [
       "(30,)"
      ]
     },
     "execution_count": 9,
     "metadata": {},
     "output_type": "execute_result"
    }
   ],
   "source": [
    "table.TIMESTAMP.unique().shape"
   ]
  },
  {
   "cell_type": "code",
   "execution_count": 7,
   "metadata": {},
   "outputs": [],
   "source": [
    "dict_of_dicts = {}\n",
    "\n",
    "for timestamp in timestamp_dict:\n",
    "    for ix in range(2):\n",
    "        for iy in range(2):\n",
    "\n",
    "            r = table[(table['TIMESTAMP'] == timestamp) & (table['ix'] == ix + 1) & (table['iy'] == iy + 1)]\n",
    "            \n",
    "            final_dict = {}\n",
    "            \n",
    "            # sum of lists\n",
    "            final_dict['vza'] = r['vza'].sum()\n",
    "            final_dict['raa'] = r['raa'].sum()\n",
    "            final_dict['meas'] = r['meas'].sum()\n",
    "\n",
    "\n",
    "            r_reset = r.drop(['vza','raa','meas'], 1)\n",
    "            final_dict['nbvm'] = r_reset['nbvm'].tolist()\n",
    "            final_dict['meas_type'] = r_reset['meas_type'].tolist()\n",
    "            final_dict['ifcov'] = r_reset['ifcov'].tolist()\n",
    "            final_dict['ifmp'] = r_reset['ifmp'].tolist()\n",
    "\n",
    "            wl_gr = r_reset.groupby(['TIMESTAMP','ix', 'iy', 'wl'])\n",
    "\n",
    "            final_dict['nip'] = wl_gr.meas_type.nunique().tolist()\n",
    "\n",
    "            wl_gr_df = wl_gr.max().reset_index()\n",
    "\n",
    "            final_dict['sza'] = wl_gr_df['sza'].tolist()\n",
    "            final_dict['nip'] = wl_gr_df['nip'].tolist()\n",
    "            final_dict['wl'] = wl_gr_df['wl'].tolist()\n",
    "\n",
    "            final_dict.update(pixel_dict[(ix + 1, iy + 1)])\n",
    "            dict_of_dicts[(timestamp, ix + 1, iy + 1)] = final_dict"
   ]
  },
  {
   "cell_type": "code",
   "execution_count": 8,
   "metadata": {},
   "outputs": [],
   "source": [
    "# to nestes dict\n",
    "from collections import defaultdict\n",
    "\n",
    "success_dict = defaultdict(list)\n",
    "for key in dict_of_dicts:\n",
    "    success_dict[key[0]].append({'{}_{}'.format(key[1], key[2]): dict_of_dicts[key]})"
   ]
  },
  {
   "cell_type": "code",
   "execution_count": 9,
   "metadata": {},
   "outputs": [],
   "source": [
    "with open('intermediate_data/data_Polder.json', 'w') as file:\n",
    "    json.dump(success_dict, file)\n",
    "    \n",
    "    \n",
    "with open('intermediate_data/timestamp_info_Polder.json', 'w') as file:\n",
    "    json.dump(timestamp_dict, file)"
   ]
  },
  {
   "cell_type": "code",
   "execution_count": null,
   "metadata": {},
   "outputs": [],
   "source": []
  }
 ],
 "metadata": {
  "kernelspec": {
   "display_name": "Python 3",
   "language": "python",
   "name": "python3"
  },
  "language_info": {
   "codemirror_mode": {
    "name": "ipython",
    "version": 3
   },
   "file_extension": ".py",
   "mimetype": "text/x-python",
   "name": "python",
   "nbconvert_exporter": "python",
   "pygments_lexer": "ipython3",
   "version": "3.6.7"
  }
 },
 "nbformat": 4,
 "nbformat_minor": 2
}
