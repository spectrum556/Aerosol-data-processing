{
 "cells": [
  {
   "cell_type": "markdown",
   "metadata": {},
   "source": [
    "Issues:\n",
    " - кути в радіанах?\n",
    " - додати режим вимірювання"
   ]
  },
  {
   "cell_type": "code",
   "execution_count": 4,
   "metadata": {},
   "outputs": [],
   "source": [
    "import random\n",
    "import numpy as np\n",
    "import pandas as pd"
   ]
  },
  {
   "cell_type": "code",
   "execution_count": 43,
   "metadata": {},
   "outputs": [],
   "source": [
    "telemetry = ['turn_id', 'datetime', 'lat', 'lon', 'altitude', 'yaw', 'pitch', 'roll']\n",
    "\n",
    "scan_pol = ['pol_0', 'pol_45', 'pol_90', 'pol_135', 'angle']"
   ]
  },
  {
   "cell_type": "code",
   "execution_count": 6,
   "metadata": {},
   "outputs": [],
   "source": [
    "file_names = ['w_370', 'w_410', 'w_555', 'w_865', 'w_1378', 'w_1610']"
   ]
  },
  {
   "cell_type": "code",
   "execution_count": 7,
   "metadata": {},
   "outputs": [],
   "source": [
    "def generate_pol():\n",
    "    return round(random.uniform(0, 10), 3)"
   ]
  },
  {
   "cell_type": "code",
   "execution_count": 8,
   "metadata": {},
   "outputs": [],
   "source": [
    "df = pd.DataFrame(list(range(360)), columns=['angle'])"
   ]
  },
  {
   "cell_type": "code",
   "execution_count": 54,
   "metadata": {},
   "outputs": [],
   "source": [
    "n_turn = 10\n",
    "\n",
    "for i in range(n_turn):\n",
    "    for file in file_names:\n",
    "        for el in scan_pol[:-1]:\n",
    "            df[el] = [generate_pol() for _ in range(360)]\n",
    "            df.to_csv('data/measurement/{:02d}_{}.csv'.format(i, file), index=False)"
   ]
  },
  {
   "cell_type": "code",
   "execution_count": 45,
   "metadata": {},
   "outputs": [
    {
     "data": {
      "text/html": [
       "<div>\n",
       "<style scoped>\n",
       "    .dataframe tbody tr th:only-of-type {\n",
       "        vertical-align: middle;\n",
       "    }\n",
       "\n",
       "    .dataframe tbody tr th {\n",
       "        vertical-align: top;\n",
       "    }\n",
       "\n",
       "    .dataframe thead th {\n",
       "        text-align: right;\n",
       "    }\n",
       "</style>\n",
       "<table border=\"1\" class=\"dataframe\">\n",
       "  <thead>\n",
       "    <tr style=\"text-align: right;\">\n",
       "      <th></th>\n",
       "      <th>angle</th>\n",
       "      <th>pol_0</th>\n",
       "      <th>pol_45</th>\n",
       "      <th>pol_90</th>\n",
       "      <th>pol_135</th>\n",
       "    </tr>\n",
       "  </thead>\n",
       "  <tbody>\n",
       "    <tr>\n",
       "      <th>0</th>\n",
       "      <td>0</td>\n",
       "      <td>4.827</td>\n",
       "      <td>4.217</td>\n",
       "      <td>8.740</td>\n",
       "      <td>3.008</td>\n",
       "    </tr>\n",
       "    <tr>\n",
       "      <th>1</th>\n",
       "      <td>1</td>\n",
       "      <td>5.674</td>\n",
       "      <td>9.594</td>\n",
       "      <td>3.272</td>\n",
       "      <td>6.630</td>\n",
       "    </tr>\n",
       "    <tr>\n",
       "      <th>2</th>\n",
       "      <td>2</td>\n",
       "      <td>0.789</td>\n",
       "      <td>1.580</td>\n",
       "      <td>0.598</td>\n",
       "      <td>3.068</td>\n",
       "    </tr>\n",
       "    <tr>\n",
       "      <th>3</th>\n",
       "      <td>3</td>\n",
       "      <td>3.449</td>\n",
       "      <td>4.730</td>\n",
       "      <td>0.395</td>\n",
       "      <td>3.372</td>\n",
       "    </tr>\n",
       "    <tr>\n",
       "      <th>4</th>\n",
       "      <td>4</td>\n",
       "      <td>8.275</td>\n",
       "      <td>8.237</td>\n",
       "      <td>2.021</td>\n",
       "      <td>5.772</td>\n",
       "    </tr>\n",
       "  </tbody>\n",
       "</table>\n",
       "</div>"
      ],
      "text/plain": [
       "   angle  pol_0  pol_45  pol_90  pol_135\n",
       "0      0  4.827   4.217   8.740    3.008\n",
       "1      1  5.674   9.594   3.272    6.630\n",
       "2      2  0.789   1.580   0.598    3.068\n",
       "3      3  3.449   4.730   0.395    3.372\n",
       "4      4  8.275   8.237   2.021    5.772"
      ]
     },
     "execution_count": 45,
     "metadata": {},
     "output_type": "execute_result"
    }
   ],
   "source": [
    "df.head()"
   ]
  },
  {
   "cell_type": "code",
   "execution_count": 17,
   "metadata": {},
   "outputs": [],
   "source": [
    "def generate_princ_axes():\n",
    "    return (round(random.uniform(-2, 2), 3),\n",
    "            round(random.uniform(-2, 2), 3),\n",
    "            round(random.uniform(-2, 2), 3))"
   ]
  },
  {
   "cell_type": "code",
   "execution_count": 18,
   "metadata": {},
   "outputs": [
    {
     "data": {
      "text/plain": [
       "(-25.430895583896863, -29.78509022377576, 839.175966414443)"
      ]
     },
     "execution_count": 18,
     "metadata": {},
     "output_type": "execute_result"
    }
   ],
   "source": [
    "from pyorbital.orbital import Orbital\n",
    "from datetime import datetime\n",
    "\n",
    "orb = Orbital(\"Suomi NPP\")\n",
    "\n",
    "dtobj = datetime(2015,2,7,3,1)\n",
    "orb.get_lonlatalt(dtobj)"
   ]
  },
  {
   "cell_type": "code",
   "execution_count": 33,
   "metadata": {},
   "outputs": [],
   "source": [
    "lat_lon_alt = []\n",
    "timestemps = []\n",
    "for i in range(n_turn):\n",
    "    dtobj = datetime(2015,2,7,0,0,i * 6)\n",
    "    timestemps.append(int(datetime.timestamp(dtobj)))\n",
    "    lat_lon_alt.append(orb.get_lonlatalt(dtobj))"
   ]
  },
  {
   "cell_type": "code",
   "execution_count": 50,
   "metadata": {},
   "outputs": [],
   "source": [
    "df_telemetry = pd.DataFrame([], columns=telemetry)\n",
    "df_telemetry['turn_id'] = list(range(n_turn))\n",
    "df_telemetry['turn_id'] = df_telemetry['turn_id'].apply(lambda x: '0' + str(x) if len(str(x)) < 2 else x)\n",
    "df_telemetry['datetime'] = timestemps\n",
    "df_telemetry[['lat','lon','altitude']] = lat_lon_alt"
   ]
  },
  {
   "cell_type": "code",
   "execution_count": 51,
   "metadata": {},
   "outputs": [],
   "source": [
    "df_telemetry[['yaw', 'pitch', 'roll']] = [generate_princ_axes() for _ in range(n_turn)]"
   ]
  },
  {
   "cell_type": "code",
   "execution_count": 56,
   "metadata": {},
   "outputs": [],
   "source": [
    "df_telemetry.to_csv('data/telemetry.csv', index=False)"
   ]
  }
 ],
 "metadata": {
  "kernelspec": {
   "display_name": "Python 3",
   "language": "python",
   "name": "python3"
  },
  "language_info": {
   "codemirror_mode": {
    "name": "ipython",
    "version": 3
   },
   "file_extension": ".py",
   "mimetype": "text/x-python",
   "name": "python",
   "nbconvert_exporter": "python",
   "pygments_lexer": "ipython3",
   "version": "3.6.9"
  }
 },
 "nbformat": 4,
 "nbformat_minor": 2
}
